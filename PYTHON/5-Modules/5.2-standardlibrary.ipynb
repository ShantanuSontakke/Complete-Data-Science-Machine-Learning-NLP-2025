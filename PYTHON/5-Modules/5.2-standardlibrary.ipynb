{
 "cells": [
  {
   "cell_type": "markdown",
   "id": "ed1ee318",
   "metadata": {},
   "source": [
    "## Standard Library Overview"
   ]
  },
  {
   "cell_type": "markdown",
   "id": "6127dd71",
   "metadata": {},
   "source": [
    "Python's Standard Library is a vast collection of modules and packages that come bundled with Python, providing a wide range of functinalities out of the box. Here's an overview of some of the most commonly used modules and package in the Python standard Library."
   ]
  },
  {
   "cell_type": "markdown",
   "id": "4b3b01b8",
   "metadata": {},
   "source": []
  }
 ],
 "metadata": {
  "language_info": {
   "name": "python"
  }
 },
 "nbformat": 4,
 "nbformat_minor": 5
}
