{
 "cells": [
  {
   "cell_type": "markdown",
   "id": "ed1ee318",
   "metadata": {},
   "source": [
    "## Standard Library Overview"
   ]
  },
  {
   "cell_type": "markdown",
   "id": "6127dd71",
   "metadata": {},
   "source": [
    "Python's Standard Library is a vast collection of modules and packages that come bundled with Python, providing a wide range of functinalities out of the box. Here's an overview of some of the most commonly used modules and package in the Python standard Library."
   ]
  },
  {
   "cell_type": "code",
   "execution_count": 1,
   "id": "b6193827",
   "metadata": {},
   "outputs": [
    {
     "name": "stdout",
     "output_type": "stream",
     "text": [
      "array('i', [1, 2, 3, 4])\n"
     ]
    }
   ],
   "source": [
    "import array\n",
    "arr=array.array('i',[1,2,3,4])\n",
    "print(arr)"
   ]
  },
  {
   "cell_type": "code",
   "execution_count": 2,
   "id": "6e6861ec",
   "metadata": {},
   "outputs": [
    {
     "name": "stdout",
     "output_type": "stream",
     "text": [
      "4.0\n",
      "3.141592653589793\n"
     ]
    }
   ],
   "source": [
    "import math\n",
    "print(math.sqrt(16))\n",
    "print(math.pi)"
   ]
  },
  {
   "cell_type": "code",
   "execution_count": null,
   "id": "b4658962",
   "metadata": {},
   "outputs": [
    {
     "name": "stdout",
     "output_type": "stream",
     "text": [
      "2\n",
      "apple\n"
     ]
    }
   ],
   "source": [
    "## random\n",
    "## output gives any number or any str\n",
    "## In Python, \"random\" refers to the random module, a built-in library that provides a set of functions for generating pseudo-random numbers.\n",
    "\n",
    "import random\n",
    "print(random.randint(1,10))  ##random.randint(a, b): Generates a random integer within a specified inclusive range.\n",
    "print(random.choice(['apple','banana','cherry']))  ##random.choice(sequence): Selects a random element from a list, tuple, or string."
   ]
  },
  {
   "cell_type": "code",
   "execution_count": 8,
   "id": "19a091e9",
   "metadata": {},
   "outputs": [
    {
     "name": "stdout",
     "output_type": "stream",
     "text": [
      "c:\\Users\\Shantanu\\OneDrive\\Desktop\\complete-data-Science-ML-NLP-2025\\PYTHON\\5-Modules\n"
     ]
    }
   ],
   "source": [
    "### File And Directory Access\n",
    "\n",
    "import os\n",
    "print(os.getcwd())  ##get c=current,w=working,d=directory"
   ]
  },
  {
   "cell_type": "code",
   "execution_count": 9,
   "id": "6b053ec5",
   "metadata": {},
   "outputs": [],
   "source": [
    "os.mkdir('test_dir')  ##mkdir mk=make  dir=directorie "
   ]
  },
  {
   "cell_type": "code",
   "execution_count": null,
   "id": "e266bb14",
   "metadata": {},
   "outputs": [
    {
     "data": {
      "text/plain": [
       "'destination.txt'"
      ]
     },
     "execution_count": 10,
     "metadata": {},
     "output_type": "execute_result"
    }
   ],
   "source": [
    "## High level operations on files and collection of files\n",
    "\n",
    "## import shutil\n",
    "## shutil.copyfile(src, dst)\n",
    " \n",
    "import shutil\n",
    "shutil.copy('source.txt','destination.txt')  #shutil.copyfile(src, dst) is used to copy the contents of the file at src (source) to the file at dst (destination).\n",
    "\n",
    "##shutil.copyfile() is a function within Python's built-in shutil module. It is a fundamental tool for performing file operations, specifically for copying the contents of a file from a source location to a destination location."
   ]
  },
  {
   "cell_type": "code",
   "execution_count": null,
   "id": "f457fb8f",
   "metadata": {},
   "outputs": [
    {
     "name": "stdout",
     "output_type": "stream",
     "text": [
      "{\"name\": \"Krish\", \"age\": 25}\n",
      "<class 'str'>\n",
      "{'name': 'Krish', 'age': 25}\n",
      "<class 'dict'>\n"
     ]
    }
   ],
   "source": [
    "## Data serialization\n",
    "## Data serialization is the process of converting an in-memory data structure or object into a format that can be stored or transmitted\n",
    "import json\n",
    "data={'name':'Krish','age':25}\n",
    "\n",
    "##json module: Python's standard library for working with JSON. It can serialize Python dictionaries and lists into JSON strings or files and deserialize JSON back into Python objects.\n",
    "json_str=json.dumps(data)\n",
    "print(json_str)\n",
    "print(type(json_str))\n",
    "\n",
    "parsed_data=json.loads(json_str)\n",
    "print(parsed_data)\n",
    "print(type(parsed_data))"
   ]
  },
  {
   "cell_type": "code",
   "execution_count": 12,
   "id": "3b0bd1ee",
   "metadata": {},
   "outputs": [
    {
     "name": "stdout",
     "output_type": "stream",
     "text": [
      "['name', 'age']\n",
      "['krish', '32']\n"
     ]
    }
   ],
   "source": [
    "## csv\n",
    "\n",
    "import csv\n",
    "\n",
    "with open('example.csv',mode='w',newline='') as file:\n",
    "    writer=csv.writer(file)\n",
    "    writer.writerow(['name','age'])\n",
    "    writer.writerow(['krish',32])\n",
    "\n",
    "with open('example.csv',mode='r') as file:\n",
    "    reader=csv.reader(file)\n",
    "    for row in reader:\n",
    "        print(row)\n"
   ]
  },
  {
   "cell_type": "code",
   "execution_count": 13,
   "id": "cca3b85d",
   "metadata": {},
   "outputs": [
    {
     "name": "stdout",
     "output_type": "stream",
     "text": [
      "2025-08-29 14:15:59.160530\n",
      "2025-08-28 14:15:59.160530\n"
     ]
    }
   ],
   "source": [
    "## datetime\n",
    "\n",
    "from datetime import datetime,timedelta\n",
    "\n",
    "now=datetime.now()\n",
    "print(now)\n",
    "\n",
    "yesterday=now-timedelta(days=1)\n",
    "\n",
    "print(yesterday)"
   ]
  },
  {
   "cell_type": "code",
   "execution_count": 14,
   "id": "32ad3dd2",
   "metadata": {},
   "outputs": [
    {
     "name": "stdout",
     "output_type": "stream",
     "text": [
      "1756457248.3450167\n",
      "1756457250.3467798\n"
     ]
    }
   ],
   "source": [
    "## time\n",
    "\n",
    "import time\n",
    "print(time.time())\n",
    "time.sleep(2)\n",
    "print(time.time())\n",
    "     "
   ]
  },
  {
   "cell_type": "code",
   "execution_count": 17,
   "id": "d3e18e81",
   "metadata": {},
   "outputs": [
    {
     "name": "stdout",
     "output_type": "stream",
     "text": [
      "123\n"
     ]
    }
   ],
   "source": [
    "## regular expression\n",
    "import re\n",
    "\n",
    "pattern=r'\\d+'\n",
    "text='There are 123 apples'\n",
    "match=re.search(pattern,text)\n",
    "print(match.group())\n"
   ]
  },
  {
   "cell_type": "markdown",
   "id": "0de26cbc",
   "metadata": {},
   "source": [
    "### Conclusion\n",
    "Python's standard Library is extensive and provides tools for almost any task you can think of, from fil handling to web services, from data serialization to concurrent execution. Familiarizing yourself with the modules and packages available in the standard Library can significantly enhance your ability to write efficient and effective Python programs."
   ]
  },
  {
   "cell_type": "markdown",
   "id": "f6a26dda",
   "metadata": {},
   "source": []
  }
 ],
 "metadata": {
  "kernelspec": {
   "display_name": "Python 3",
   "language": "python",
   "name": "python3"
  },
  "language_info": {
   "codemirror_mode": {
    "name": "ipython",
    "version": 3
   },
   "file_extension": ".py",
   "mimetype": "text/x-python",
   "name": "python",
   "nbconvert_exporter": "python",
   "pygments_lexer": "ipython3",
   "version": "3.12.0"
  }
 },
 "nbformat": 4,
 "nbformat_minor": 5
}
