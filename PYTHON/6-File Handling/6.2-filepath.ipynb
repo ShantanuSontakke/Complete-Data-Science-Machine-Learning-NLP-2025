{
 "cells": [
  {
   "cell_type": "code",
   "execution_count": 1,
   "id": "176502dd",
   "metadata": {},
   "outputs": [
    {
     "name": "stdout",
     "output_type": "stream",
     "text": [
      "Current working directory is c:\\Users\\Shantanu\\OneDrive\\Desktop\\complete-data-Science-ML-NLP-2025\\PYTHON\\6-File Handling\n"
     ]
    }
   ],
   "source": [
    "import os\n",
    "cwd=os.getcwd()\n",
    "print(f\"Current working directory is {cwd}\")"
   ]
  },
  {
   "cell_type": "code",
   "execution_count": 2,
   "id": "788c9f6c",
   "metadata": {},
   "outputs": [
    {
     "name": "stdout",
     "output_type": "stream",
     "text": [
      "Directory 'package' create\n"
     ]
    }
   ],
   "source": [
    "## create a new directorry\n",
    "new_directory=\"package\"\n",
    "os.mkdir(new_directory)\n",
    "print(f\"Directory '{new_directory}' create\")\n"
   ]
  },
  {
   "cell_type": "code",
   "execution_count": 3,
   "id": "adf976ae",
   "metadata": {},
   "outputs": [
    {
     "name": "stdout",
     "output_type": "stream",
     "text": [
      "['6.1-fileoperation.ipynb', '6.2-filepath.ipynb', 'destination.txt', 'example.bin', 'example.txt', 'package']\n"
     ]
    }
   ],
   "source": [
    "## Listing Files And Directories\n",
    "items=os.listdir('.')\n",
    "print(items)"
   ]
  },
  {
   "cell_type": "code",
   "execution_count": 5,
   "id": "c4d36f26",
   "metadata": {},
   "outputs": [
    {
     "name": "stdout",
     "output_type": "stream",
     "text": [
      "folder\\file.txt\n"
     ]
    }
   ],
   "source": [
    "### Joining Paths\n",
    "\n",
    "dir_name=\"folder\"\n",
    "file_name=\"file.txt\"\n",
    "full_path=os.path.join(dir_name,file_name) \n",
    "print(full_path) "
   ]
  },
  {
   "cell_type": "code",
   "execution_count": 6,
   "id": "0eb4609e",
   "metadata": {},
   "outputs": [
    {
     "name": "stdout",
     "output_type": "stream",
     "text": [
      "c:\\Users\\Shantanu\\OneDrive\\Desktop\\complete-data-Science-ML-NLP-2025\\PYTHON\\6-File Handling\\folder\\file.txt\n"
     ]
    }
   ],
   "source": [
    "dir_name=\"folder\"\n",
    "file_name=\"file.txt\"\n",
    "full_path=os.path.join(os.getcwd(),dir_name,file_name) \n",
    "print(full_path)"
   ]
  },
  {
   "cell_type": "code",
   "execution_count": null,
   "id": "487d6258",
   "metadata": {},
   "outputs": [],
   "source": []
  },
  {
   "cell_type": "code",
   "execution_count": null,
   "id": "550df19c",
   "metadata": {},
   "outputs": [],
   "source": [
    " "
   ]
  }
 ],
 "metadata": {
  "kernelspec": {
   "display_name": "Python 3",
   "language": "python",
   "name": "python3"
  },
  "language_info": {
   "codemirror_mode": {
    "name": "ipython",
    "version": 3
   },
   "file_extension": ".py",
   "mimetype": "text/x-python",
   "name": "python",
   "nbconvert_exporter": "python",
   "pygments_lexer": "ipython3",
   "version": "3.12.0"
  }
 },
 "nbformat": 4,
 "nbformat_minor": 5
}
