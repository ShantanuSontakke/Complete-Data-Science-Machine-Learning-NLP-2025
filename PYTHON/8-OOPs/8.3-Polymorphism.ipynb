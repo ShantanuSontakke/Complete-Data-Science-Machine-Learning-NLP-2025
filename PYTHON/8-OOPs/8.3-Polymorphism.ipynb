{
 "cells": [
  {
   "cell_type": "markdown",
   "id": "40d0ac7b",
   "metadata": {},
   "source": [
    "### Polymorphism\n",
    "Polymorphism is a core concept in object-Oriented Proggramming (OOp) that allows objects of different classes to be treated as objects of a common superclass .it provides a way to perform a single action in different forms. polymorphism is typically achieved through method overriding and interface"
   ]
  },
  {
   "cell_type": "markdown",
   "id": "c08b2614",
   "metadata": {},
   "source": [
    "### Methods Overridding\n",
    "Method overriding allows a child classs to provide a specific implementation of a method that is already defined in its parent class."
   ]
  },
  {
   "cell_type": "code",
   "execution_count": 3,
   "id": "b28be913",
   "metadata": {},
   "outputs": [
    {
     "name": "stdout",
     "output_type": "stream",
     "text": [
      "woof!\n",
      "Meow!\n",
      "woof!\n"
     ]
    }
   ],
   "source": [
    "## Base Class\n",
    "class Animal:\n",
    "    def speak(self):\n",
    "        return \"Sound of the animal\"\n",
    "\n",
    "## Derived class 1\n",
    "class Dog(Animal):\n",
    "    def speak(self):\n",
    "        return \"woof!\"\n",
    "\n",
    "## Derived class\n",
    "class Cat(Animal):\n",
    "    def speak(self):\n",
    "        return \"Meow!\"\n",
    "\n",
    "## Function that demonstartes polymorphism\n",
    "def animal_speak(animal):\n",
    "    print(animal.speak())\n",
    "\n",
    "dog=Dog()\n",
    "cat=Cat()\n",
    "print(dog.speak())\n",
    "print(cat.speak())\n",
    "animal_speak(dog)"
   ]
  },
  {
   "cell_type": "code",
   "execution_count": null,
   "id": "6c6b86cd",
   "metadata": {},
   "outputs": [],
   "source": [
    "### Polymorphism with Functions and methods\n",
    "## base class\n",
    "class Shape:\n",
    "    def area(self):\n",
    "        return \" The area of the figure\" \n",
    "\n",
    "## Derived class 1\n",
    "class Rectangle(Shape):\n",
    "    def __init__(self,width,height):\n",
    "        self.width=width\n",
    "        self.height=height\n",
    "\n",
    "    def area(self):\n",
    "        return self.width * self.height\n",
    "\n",
    "## Derived class 2\n",
    "\n",
    "class circle(shape):\n",
    "    def __init__(self,radius):\n",
    "        self.radius=radius\n",
    "\n",
    "    def area(self):\n",
    "        return 3.14*self.radius * self.radius\n",
    "\n",
    "## function that demonstrate poly morphism"
   ]
  }
 ],
 "metadata": {
  "kernelspec": {
   "display_name": "Python 3",
   "language": "python",
   "name": "python3"
  },
  "language_info": {
   "codemirror_mode": {
    "name": "ipython",
    "version": 3
   },
   "file_extension": ".py",
   "mimetype": "text/x-python",
   "name": "python",
   "nbconvert_exporter": "python",
   "pygments_lexer": "ipython3",
   "version": "3.12.0"
  }
 },
 "nbformat": 4,
 "nbformat_minor": 5
}
