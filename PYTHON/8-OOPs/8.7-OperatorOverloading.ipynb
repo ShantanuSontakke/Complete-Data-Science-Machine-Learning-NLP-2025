{
 "cells": [
  {
   "cell_type": "code",
   "execution_count": 1,
   "id": "5c89cdb5",
   "metadata": {},
   "outputs": [
    {
     "data": {
      "text/plain": [
       "'\\n__add__(self, other): Adds two objects using the + operator.\\n__sub__(self, other): Subtracts two objects using the -operator.\\n__mul__(self, other): multiplies two objects using the * operator.\\n__truediv__(self, other): divides two objects using the / operator.\\n__eq__(self, other): Checks if two objects are equal using the == operator.\\n__It__(self,other): Checks if one object i less than another using the < operator.\\n\\n__gt__\\n\\n'"
      ]
     },
     "execution_count": 1,
     "metadata": {},
     "output_type": "execute_result"
    }
   ],
   "source": [
    "### Common Operator Overloading Magic Metods\n",
    "'''\n",
    "__add__(self, other): Adds two objects using the + operator.\n",
    "__sub__(self, other): Subtracts two objects using the -operator.\n",
    "__mul__(self, other): multiplies two objects using the * operator.\n",
    "__truediv__(self, other): divides two objects using the / operator.\n",
    "__eq__(self, other): Checks if two objects are equal using the == operator.\n",
    "__It__(self,other): Checks if one object i less than another using the < operator.\n",
    "\n",
    "__gt__\n",
    "\n",
    "'''"
   ]
  }
 ],
 "metadata": {
  "kernelspec": {
   "display_name": "Python 3",
   "language": "python",
   "name": "python3"
  },
  "language_info": {
   "codemirror_mode": {
    "name": "ipython",
    "version": 3
   },
   "file_extension": ".py",
   "mimetype": "text/x-python",
   "name": "python",
   "nbconvert_exporter": "python",
   "pygments_lexer": "ipython3",
   "version": "3.12.0"
  }
 },
 "nbformat": 4,
 "nbformat_minor": 5
}
