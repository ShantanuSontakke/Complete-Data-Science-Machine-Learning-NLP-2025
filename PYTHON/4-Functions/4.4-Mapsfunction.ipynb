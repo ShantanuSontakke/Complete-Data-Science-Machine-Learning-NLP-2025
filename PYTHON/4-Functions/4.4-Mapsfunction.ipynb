{
 "cells": [
  {
   "cell_type": "markdown",
   "id": "4b9e4ba9",
   "metadata": {},
   "source": [
    "## The map() Function in Python"
   ]
  },
  {
   "cell_type": "markdown",
   "id": "0fb58fd1",
   "metadata": {},
   "source": [
    "### The map() function applies a given function to all item in an input list(or any other iterable) and returns a map object(an iterator). this is Particularly useful for transforming data in a list comprehsively."
   ]
  },
  {
   "cell_type": "code",
   "execution_count": 1,
   "id": "2f5efe3a",
   "metadata": {},
   "outputs": [
    {
     "data": {
      "text/plain": [
       "100"
      ]
     },
     "execution_count": 1,
     "metadata": {},
     "output_type": "execute_result"
    }
   ],
   "source": [
    "def square(x):\n",
    "    return x*x\n",
    "\n",
    "square(10)"
   ]
  }
 ],
 "metadata": {
  "kernelspec": {
   "display_name": "Python 3",
   "language": "python",
   "name": "python3"
  },
  "language_info": {
   "codemirror_mode": {
    "name": "ipython",
    "version": 3
   },
   "file_extension": ".py",
   "mimetype": "text/x-python",
   "name": "python",
   "nbconvert_exporter": "python",
   "pygments_lexer": "ipython3",
   "version": "3.12.0"
  }
 },
 "nbformat": 4,
 "nbformat_minor": 5
}
