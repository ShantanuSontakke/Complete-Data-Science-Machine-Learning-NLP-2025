{
 "cells": [
  {
   "cell_type": "markdown",
   "id": "2483d1a4",
   "metadata": {},
   "source": [
    "S"
   ]
  },
  {
   "cell_type": "markdown",
   "id": "58e3a494",
   "metadata": {},
   "source": [
    "syntax refers to the set of rules that defines the combinations of symbols that are considered to be correctly structured programs in a language.\n",
    " In simpler terms syntax is about the correct arrangement of words and symbols in a code\n",
    "\n",
    " Semantics refers to the meaning or the interpretation of the symbols,characters, and commands in a language. ti is about what the code is supposed to do when it runs."
   ]
  },
  {
   "cell_type": "markdown",
   "id": "82434633",
   "metadata": {},
   "source": [
    "## \n",
    "this is a single line comment\n",
    "\n",
    "this is a multiline comments\n",
    "'''\n",
    "'''"
   ]
  },
  {
   "cell_type": "code",
   "execution_count": 2,
   "id": "61792301",
   "metadata": {},
   "outputs": [
    {
     "name": "stdout",
     "output_type": "stream",
     "text": [
      "shantanu\n",
      "vedant\n"
     ]
    }
   ],
   "source": [
    "## basic Syntax Rules IN Python\n",
    "## Case sensitivity - Python is case sensitive\n",
    "\n",
    "name=\"shantanu\"\n",
    "Name=\"vedant\"\n",
    "\n",
    "print(name)\n",
    "print(Name)\n",
    "\n",
    "## name and Name are same but difference between n and N this means case sensitive python"
   ]
  },
  {
   "cell_type": "markdown",
   "id": "19be90dc",
   "metadata": {},
   "source": [
    "### Indentation\n",
    "indentation in python is used to define the structure and hierarchy of the code.Unlike many other programming language that use brace{} to delimit blocks of code , Python uses indentation to determine the grouping of statements.This means that all the statements within a block must be indented at the same level"
   ]
  },
  {
   "cell_type": "code",
   "execution_count": 3,
   "id": "c7f03ddd",
   "metadata": {},
   "outputs": [
    {
     "name": "stdout",
     "output_type": "stream",
     "text": [
      "32\n"
     ]
    }
   ],
   "source": [
    "##Indentation \n",
    "## python uses indenation to define blocks of code . consitent use of spaces (commonly 4) or a tab is required.\n",
    "\n",
    "age=32\n",
    "if age>30:\n",
    "    print(age)\n",
    "\n",
    "    ## before space in print statement is called indentation"
   ]
  },
  {
   "cell_type": "code",
   "execution_count": 3,
   "id": "4a6166fd",
   "metadata": {},
   "outputs": [
    {
     "name": "stdout",
     "output_type": "stream",
     "text": [
      "Hello world\n"
     ]
    }
   ],
   "source": [
    "## single line comment\n",
    "print(\"Hello world\")"
   ]
  },
  {
   "cell_type": "code",
   "execution_count": null,
   "id": "f77e1dce",
   "metadata": {},
   "outputs": [
    {
     "name": "stdout",
     "output_type": "stream",
     "text": [
      "36\n"
     ]
    }
   ],
   "source": [
    "## line Continuation\n",
    "## Use a backsash (\\) to continue a statement to the next line\n",
    "\n",
    "total=1+2+3+4+5+ \\\n",
    "6+7+8\n",
    "\n",
    "print(total)\n",
    "\n"
   ]
  },
  {
   "cell_type": "code",
   "execution_count": 7,
   "id": "71223928",
   "metadata": {},
   "outputs": [
    {
     "name": "stdout",
     "output_type": "stream",
     "text": [
      "15\n"
     ]
    }
   ],
   "source": [
    "## Multiple statement on a single line\n",
    "x=5;y=10;z=x+y\n",
    "print(z)"
   ]
  },
  {
   "cell_type": "code",
   "execution_count": null,
   "id": "3976581a",
   "metadata": {},
   "outputs": [],
   "source": [
    "## understand Semantics In Python\n",
    "# variable assignment\n",
    "age=32 ##age is an integer\n",
    "name=\"Krish\" ## age is an string"
   ]
  },
  {
   "cell_type": "code",
   "execution_count": null,
   "id": "4154c548",
   "metadata": {},
   "outputs": [
    {
     "data": {
      "text/plain": [
       "int"
      ]
     },
     "execution_count": 11,
     "metadata": {},
     "output_type": "execute_result"
    }
   ],
   "source": [
    "\n",
    "type(age)\n"
   ]
  },
  {
   "cell_type": "code",
   "execution_count": 10,
   "id": "bcd9ba47",
   "metadata": {},
   "outputs": [
    {
     "data": {
      "text/plain": [
       "str"
      ]
     },
     "execution_count": 10,
     "metadata": {},
     "output_type": "execute_result"
    }
   ],
   "source": [
    "type(name)\n"
   ]
  },
  {
   "cell_type": "code",
   "execution_count": 15,
   "id": "477d55b8",
   "metadata": {},
   "outputs": [
    {
     "name": "stdout",
     "output_type": "stream",
     "text": [
      "<class 'int'>\n",
      "<class 'str'>\n"
     ]
    }
   ],
   "source": [
    "## Type Infernce\n",
    "variable=10\n",
    "print(type(variable))\n",
    "variable=\"shann\"\n",
    "print(type(variable))"
   ]
  },
  {
   "cell_type": "markdown",
   "id": "c7c18b6a",
   "metadata": {},
   "source": [
    "### Indentation error"
   ]
  },
  {
   "cell_type": "code",
   "execution_count": 5,
   "id": "aff18386",
   "metadata": {},
   "outputs": [
    {
     "name": "stdout",
     "output_type": "stream",
     "text": [
      "20\n"
     ]
    }
   ],
   "source": [
    "age=20\n",
    "if age>18:\n",
    "    print(age)"
   ]
  },
  {
   "cell_type": "code",
   "execution_count": 2,
   "id": "68d72625",
   "metadata": {},
   "outputs": [
    {
     "name": "stdout",
     "output_type": "stream",
     "text": [
      "21\n"
     ]
    }
   ],
   "source": [
    "age=21\n",
    "if age>18:\n",
    "    print(age)"
   ]
  }
 ],
 "metadata": {
  "kernelspec": {
   "display_name": "Python 3",
   "language": "python",
   "name": "python3"
  },
  "language_info": {
   "codemirror_mode": {
    "name": "ipython",
    "version": 3
   },
   "file_extension": ".py",
   "mimetype": "text/x-python",
   "name": "python",
   "nbconvert_exporter": "python",
   "pygments_lexer": "ipython3",
   "version": "3.12.0"
  }
 },
 "nbformat": 4,
 "nbformat_minor": 5
}
