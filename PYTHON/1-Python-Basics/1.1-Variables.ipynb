{
 "cells": [
  {
   "cell_type": "markdown",
   "id": "fb255cd2",
   "metadata": {},
   "source": [
    "### Variables"
   ]
  },
  {
   "cell_type": "markdown",
   "id": "6fcbeb67",
   "metadata": {},
   "source": [
    "Variable are fundamental element in proggramming used to store data that can be referenced and manipulated in a program.    In python , variable are created when you assign  a value to them and they do not need explicit declaration to reserve memory space. the declaration happens automatically when you assign a value to a variable."
   ]
  },
  {
   "cell_type": "code",
   "execution_count": 1,
   "id": "a20b3dbe",
   "metadata": {},
   "outputs": [
    {
     "name": "stdout",
     "output_type": "stream",
     "text": [
      "age: 32\n",
      "height: 6.1\n",
      "Name: krish\n"
     ]
    }
   ],
   "source": [
    "## Declaration And Assiging Variables\n",
    "\n",
    "age=32\n",
    "height=6.1\n",
    "name=\"krish\"\n",
    "is_student=True\n",
    "\n",
    "## printing the Variables\n",
    "\n",
    "print(\"age:\",age)\n",
    "print(\"height:\",height)\n",
    "print(\"Name:\",name)\n"
   ]
  },
  {
   "cell_type": "code",
   "execution_count": null,
   "id": "cbea1469",
   "metadata": {},
   "outputs": [],
   "source": [
    "## naming Conventions\n",
    "## variable names should be descriptive\n",
    "## They must start with a letter or an \"_\" and  contains letter,numbers and underscores\n",
    "## variables names case sensitive\n",
    "\n",
    "# valid variable names\n",
    "\n",
    "first_name= \"shann\"\n",
    "last_name=\"sontakke\""
   ]
  },
  {
   "cell_type": "code",
   "execution_count": null,
   "id": "ba16b7a1",
   "metadata": {},
   "outputs": [],
   "source": [
    "## Invalid number\n",
    "#2age=30\n",
    "#first-name=\"Krish\"\n",
    "##@name=\"krish\"\n"
   ]
  },
  {
   "cell_type": "code",
   "execution_count": null,
   "id": "b471930f",
   "metadata": {},
   "outputs": [],
   "source": [
    "## case sensitivity\n",
    "name=\"Krish\"\n",
    "Name=\"Lolo\""
   ]
  },
  {
   "cell_type": "code",
   "execution_count": null,
   "id": "89d24677",
   "metadata": {},
   "outputs": [],
   "source": [
    "## Understanding Variable types\n",
    "## Python is dynamically typed, type of a variable is determined at runtime\n",
    "\n",
    "age=25 #int\n",
    "height=6.1 # float\n",
    "name=\"Krish\" #str\n",
    "is_student=True #bool\n",
    "\n",
    "print(type(name))"
   ]
  },
  {
   "cell_type": "code",
   "execution_count": 2,
   "id": "9f2b3218",
   "metadata": {},
   "outputs": [
    {
     "data": {
      "text/plain": [
       "float"
      ]
     },
     "execution_count": 2,
     "metadata": {},
     "output_type": "execute_result"
    }
   ],
   "source": [
    "## Type Checking and Conversion\n",
    "\n",
    "type(height)"
   ]
  },
  {
   "cell_type": "code",
   "execution_count": 3,
   "id": "de408571",
   "metadata": {},
   "outputs": [
    {
     "name": "stdout",
     "output_type": "stream",
     "text": [
      "<class 'int'>\n",
      "25\n",
      "<class 'str'>\n"
     ]
    }
   ],
   "source": [
    "age=25\n",
    "print(type(age))\n",
    "\n",
    "# Type conversion\n",
    "age_str=str(age)\n",
    "print(age_str)\n",
    "print(type(age_str))"
   ]
  },
  {
   "cell_type": "code",
   "execution_count": 4,
   "id": "098e1d77",
   "metadata": {},
   "outputs": [
    {
     "name": "stdout",
     "output_type": "stream",
     "text": [
      "<class 'int'>\n"
     ]
    }
   ],
   "source": [
    "age='25'\n",
    "print(type(int(age)))"
   ]
  },
  {
   "cell_type": "code",
   "execution_count": null,
   "id": "d7c5a210",
   "metadata": {},
   "outputs": [
    {
     "ename": "ValueError",
     "evalue": "invalid literal for int() with base 10: 'Krish'",
     "output_type": "error",
     "traceback": [
      "\u001b[31m---------------------------------------------------------------------------\u001b[39m",
      "\u001b[31mValueError\u001b[39m                                Traceback (most recent call last)",
      "\u001b[36mCell\u001b[39m\u001b[36m \u001b[39m\u001b[32mIn[5]\u001b[39m\u001b[32m, line 2\u001b[39m\n\u001b[32m      1\u001b[39m name=\u001b[33m\"\u001b[39m\u001b[33mKrish\u001b[39m\u001b[33m\"\u001b[39m\n\u001b[32m----> \u001b[39m\u001b[32m2\u001b[39m \u001b[38;5;28;43mint\u001b[39;49m\u001b[43m(\u001b[49m\u001b[43mname\u001b[49m\u001b[43m)\u001b[49m\n",
      "\u001b[31mValueError\u001b[39m: invalid literal for int() with base 10: 'Krish'"
     ]
    }
   ],
   "source": [
    "name=\"Krish\"\n",
    "int(name)\n",
    "\n",
    "## valueerror str is complelete sentence"
   ]
  },
  {
   "cell_type": "code",
   "execution_count": 6,
   "id": "d55f533f",
   "metadata": {},
   "outputs": [
    {
     "data": {
      "text/plain": [
       "float"
      ]
     },
     "execution_count": 6,
     "metadata": {},
     "output_type": "execute_result"
    }
   ],
   "source": [
    "height=5.11\n",
    "type(height)"
   ]
  },
  {
   "cell_type": "code",
   "execution_count": 7,
   "id": "d70fb750",
   "metadata": {},
   "outputs": [
    {
     "data": {
      "text/plain": [
       "5"
      ]
     },
     "execution_count": 7,
     "metadata": {},
     "output_type": "execute_result"
    }
   ],
   "source": [
    "int(height)"
   ]
  },
  {
   "cell_type": "code",
   "execution_count": 8,
   "id": "440e2d7b",
   "metadata": {},
   "outputs": [
    {
     "data": {
      "text/plain": [
       "5.0"
      ]
     },
     "execution_count": 8,
     "metadata": {},
     "output_type": "execute_result"
    }
   ],
   "source": [
    "float(int(height))"
   ]
  },
  {
   "cell_type": "code",
   "execution_count": 9,
   "id": "244c090e",
   "metadata": {},
   "outputs": [
    {
     "name": "stdout",
     "output_type": "stream",
     "text": [
      "10 <class 'int'>\n",
      "Hello <class 'str'>\n",
      "3.14 <class 'float'>\n"
     ]
    }
   ],
   "source": [
    "## Dynamic Typing\n",
    "## Python allows the type of a variable to change as the program executes\n",
    "var=10 # int\n",
    "print(var,type(var))\n",
    "\n",
    "var=\"Hello\"\n",
    "print(var,type(var))\n",
    "\n",
    "var=3.14\n",
    "print(var,type(var))"
   ]
  },
  {
   "cell_type": "code",
   "execution_count": 4,
   "id": "4acb4f9f",
   "metadata": {},
   "outputs": [
    {
     "name": "stdout",
     "output_type": "stream",
     "text": [
      " <class 'str'>\n"
     ]
    }
   ],
   "source": [
    "## input\n",
    "age=23\n",
    "age=input(\"What is the age\")\n",
    "print(age,type(age))"
   ]
  },
  {
   "cell_type": "code",
   "execution_count": 6,
   "id": "28427701",
   "metadata": {},
   "outputs": [
    {
     "ename": "ValueError",
     "evalue": "invalid literal for int() with base 10: ''",
     "output_type": "error",
     "traceback": [
      "\u001b[31m---------------------------------------------------------------------------\u001b[39m",
      "\u001b[31mValueError\u001b[39m                                Traceback (most recent call last)",
      "\u001b[36mCell\u001b[39m\u001b[36m \u001b[39m\u001b[32mIn[6]\u001b[39m\u001b[32m, line 3\u001b[39m\n\u001b[32m      1\u001b[39m \u001b[38;5;66;03m## input\u001b[39;00m\n\u001b[32m----> \u001b[39m\u001b[32m3\u001b[39m age=\u001b[38;5;28;43mint\u001b[39;49m\u001b[43m(\u001b[49m\u001b[38;5;28;43minput\u001b[39;49m\u001b[43m(\u001b[49m\u001b[33;43m\"\u001b[39;49m\u001b[33;43mWhat is the age\u001b[39;49m\u001b[33;43m\"\u001b[39;49m\u001b[43m)\u001b[49m\u001b[43m)\u001b[49m\n\u001b[32m      4\u001b[39m \u001b[38;5;28mprint\u001b[39m(age,\u001b[38;5;28mtype\u001b[39m(age))\n",
      "\u001b[31mValueError\u001b[39m: invalid literal for int() with base 10: ''"
     ]
    }
   ],
   "source": [
    "## input\n",
    "\n",
    "age=int(input(\"What is the age\"))\n",
    "print(age,type(age))"
   ]
  },
  {
   "cell_type": "code",
   "execution_count": 7,
   "id": "3412e945",
   "metadata": {},
   "outputs": [
    {
     "name": "stdout",
     "output_type": "stream",
     "text": [
      "sum: 9.0\n",
      "Difference: -1.0\n",
      "Product: 20.0\n",
      "Quotient: 0.8\n"
     ]
    }
   ],
   "source": [
    "### Simple claculator\n",
    "num1 = float(input(\"Enter first number:\"))\n",
    "num2 = float(input(\"Enter second number:\"))\n",
    "\n",
    "sum = num1 + num2\n",
    "difference = num1 - num2\n",
    "product = num1 * num2\n",
    "quotient = num1 / num2\n",
    "\n",
    "print(\"sum:\",sum)\n",
    "print(\"Difference:\", difference)\n",
    "print(\"Product:\",product)\n",
    "print(\"Quotient:\",quotient)"
   ]
  }
 ],
 "metadata": {
  "kernelspec": {
   "display_name": "Python 3",
   "language": "python",
   "name": "python3"
  },
  "language_info": {
   "codemirror_mode": {
    "name": "ipython",
    "version": 3
   },
   "file_extension": ".py",
   "mimetype": "text/x-python",
   "name": "python",
   "nbconvert_exporter": "python",
   "pygments_lexer": "ipython3",
   "version": "3.12.0"
  }
 },
 "nbformat": 4,
 "nbformat_minor": 5
}
